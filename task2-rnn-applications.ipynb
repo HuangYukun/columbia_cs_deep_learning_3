{
 "cells": [
  {
   "cell_type": "markdown",
   "metadata": {},
   "source": [
    "# Task 2: RNN application -- Tweet Sentiment Analysis"
   ]
  },
  {
   "cell_type": "code",
   "execution_count": 1,
   "metadata": {
    "collapsed": true
   },
   "outputs": [],
   "source": [
    "# Import modules\n",
    "from __future__ import print_function\n",
    "import tensorflow as tf\n",
    "import numpy as np\n",
    "import json\n",
    "import time\n",
    "import matplotlib.pyplot as plt\n",
    "import pickle\n",
    "\n",
    "# Plot configurations\n",
    "% matplotlib inline\n",
    "# Notebook auto reloads code. (Ref: http://stackoverflow.com/questions/1907993/autoreload-of-modules-in-ipython)\n",
    "% load_ext autoreload\n",
    "% autoreload 2"
   ]
  },
  {
   "cell_type": "markdown",
   "metadata": {},
   "source": [
    "### Load data"
   ]
  },
  {
   "cell_type": "code",
   "execution_count": 196,
   "metadata": {},
   "outputs": [
    {
     "name": "stdout",
     "output_type": "stream",
     "text": [
      "[[345, 55, 3679, 1796, 30, 7, 211, 474, 260, 29, 59, 33, 1, 1, 1, 1, 1, 1, 1, 1], '0']\n",
      "(array([ 345,   55, 3679, 1796,   30,    7,  211,  474,  260,   29,   59,\n",
      "         33,    1,    1,    1,    1,    1,    1,    1,    1], dtype=int32), '0')\n"
     ]
    }
   ],
   "source": [
    "train_data = json.load(open('tweets_data/trainTweets_preprocessed.json', 'r'))\n",
    "print(train_data[0])\n",
    "train_data = list(map(lambda row:(np.array(row[0],dtype=np.int32),str(row[1])),train_data))\n",
    "print(train_data[0])"
   ]
  },
  {
   "cell_type": "code",
   "execution_count": 2,
   "metadata": {},
   "outputs": [
    {
     "name": "stdout",
     "output_type": "stream",
     "text": [
      "size of original train set: 60000\n",
      "size of original test set: 20000\n",
      "****************************************************************************************************\n",
      "size of train set: 60000, #positive: 30055, #negative: 29945\n",
      "size of test set: 1000, #positive: 510, #negative: 490\n",
      "['it', 'will', 'help', 'relieve', 'your', 'stress', 'padtoken', 'padtoken', 'padtoken', 'padtoken', 'padtoken', 'padtoken', 'padtoken', 'padtoken', 'padtoken', 'padtoken', 'padtoken', 'padtoken', 'padtoken', 'padtoken']\n",
      "sentiment: positive\n"
     ]
    }
   ],
   "source": [
    "with open(\"./tweets_data/vocabulary.pkl\", \"rb\") as f:\n",
    "    vocabulary = pickle.load(f)\n",
    "\n",
    "# load our data and separate it into tweets and labels\n",
    "train_data = json.load(open('tweets_data/trainTweets_preprocessed.json', 'r'))\n",
    "print(train_data[0])\n",
    "train_data = list(map(lambda row:(np.array(row[0],dtype=np.int32),str(row[1])),train_data))\n",
    "print(train_data[0])\n",
    "train_tweets = np.array([t[0] for t in train_data])\n",
    "train_labels = np.array([int(t[1]) for t in train_data])\n",
    "\n",
    "test_data = json.load(open('tweets_data/testTweets_preprocessed.json', 'r'))\n",
    "test_data = list(map(lambda row:(np.array(row[0],dtype=np.int32),str(row[1])),test_data))\n",
    "test_tweets = np.array([t[0] for t in test_data])\n",
    "test_labels = np.array([int(t[1]) for t in test_data])\n",
    "\n",
    "print(\"size of original train set: {}\".format(len(train_tweets)))\n",
    "print(\"size of original test set: {}\".format(len(test_tweets)))\n",
    "\n",
    "# only select first 1000 test sample for test\n",
    "test_tweets = test_tweets[:1000]\n",
    "test_labels = test_labels[:1000]\n",
    "\n",
    "print(\"*\"*100)\n",
    "print(\"size of train set: {}, #positive: {}, #negative: {}\".format(len(train_tweets), np.sum(train_labels), len(train_tweets)-np.sum(train_labels)))\n",
    "print(\"size of test set: {}, #positive: {}, #negative: {}\".format(len(test_tweets), np.sum(test_labels), len(test_tweets)-np.sum(test_labels)))\n",
    "\n",
    "# show text of the idx-th train tweet\n",
    "# The 'padtoken' is used to ensure each tweet has the same length\n",
    "idx = 100\n",
    "train_text = [vocabulary[x] for x in train_tweets[idx]]\n",
    "print(train_text)\n",
    "sentiment_label = [\"negative\", \"positive\"]\n",
    "print(\"sentiment: {}\".format(sentiment_label[train_labels[idx]]))"
   ]
  },
  {
   "cell_type": "markdown",
   "metadata": {},
   "source": [
    "## Part 1: LSTM Encoder"
   ]
  },
  {
   "cell_type": "markdown",
   "metadata": {},
   "source": [
    "### train a single-layer lstm network\n",
    "\n",
    "First of all, we'll build a single-layer LSTM network for the analysis. The network structure is the following:\n",
    "\n",
    "![](./img/singleLSTM.png)\n",
    "\n",
    "<span style=\"color:red\">__TODO:__</span> Below, we've defined the network for you. Please read the code carefully to make sure you understand it. Then, please write a training function to train this network. The settings are:\n",
    "\n",
    "1. Train the network for 1000 iterations. In each iteration, use batch_size samples to train the network.\n",
    "2. For every 50 iterations, apply the network on the test set, and print out the test accuracy and mean loss.\n",
    "\n",
    "With these settings, what accuracy could you get? You can try to change some stuff in the network to see if you could get a better accuracy (this is optional)."
   ]
  },
  {
   "cell_type": "code",
   "execution_count": 27,
   "metadata": {
    "collapsed": true
   },
   "outputs": [],
   "source": [
    "# define a linear layer, y = x*w + b\n",
    "def linear(input_, output_size, name, init_bias=0.0):\n",
    "    shape = input_.get_shape().as_list()\n",
    "    with tf.variable_scope(name):\n",
    "        init = tf.truncated_normal([shape[-1], output_size], mean=0.0, stddev=1.0 / shape[-1]**0.5)\n",
    "        W = tf.get_variable(\"weight\", initializer=init)\n",
    "    if init_bias is None:\n",
    "        return tf.matmul(input_, W)\n",
    "    with tf.variable_scope(name):\n",
    "        b = tf.get_variable(\"bias\", [output_size], initializer=tf.constant_initializer(init_bias))\n",
    "    return tf.matmul(input_, W) + b"
   ]
  },
  {
   "cell_type": "code",
   "execution_count": 67,
   "metadata": {},
   "outputs": [],
   "source": [
    "# set variables\n",
    "tweet_size = 20\n",
    "hidden_size = 100\n",
    "vocab_size = 7597\n",
    "batch_size = 64\n",
    "\n",
    "# this just makes sure that all our following operations will be placed in the right graph.\n",
    "tf.reset_default_graph()\n",
    "\n",
    "# make placeholders for data we'll feed in\n",
    "tweets = tf.placeholder(tf.int32, [None, tweet_size])\n",
    "labels = tf.placeholder(tf.float32, [None])\n",
    "\n",
    "tweets_onehot = tf.one_hot(tweets, depth=vocab_size, axis=-1)\n",
    "\n",
    "# define the lstm cell\n",
    "lstm_cell = tf.contrib.rnn.LSTMCell(hidden_size)\n",
    "\n",
    "# define the op that runs the LSTM, across time, on the data\n",
    "init_state = lstm_cell.zero_state(batch_size, tf.float32)\n",
    "outputs, final_state = tf.nn.dynamic_rnn(lstm_cell, tweets_onehot, initial_state=init_state, dtype=tf.float32)\n",
    "\n",
    "# define that our final sentiment logit is a linear function of the final state of the LSTM\n",
    "sentiment = linear(final_state[-1], 1, name=\"output\")\n",
    "\n",
    "# define cross entropy/sigmoid loss function\n",
    "sentiment = tf.squeeze(sentiment, [1])\n",
    "loss = tf.nn.sigmoid_cross_entropy_with_logits(logits=sentiment, labels=labels)\n",
    "loss = tf.reduce_mean(loss)\n",
    "\n",
    "# compute accuracy\n",
    "prob = tf.nn.sigmoid(sentiment)\n",
    "prediction = tf.to_float(tf.greater_equal(prob, 0.5))\n",
    "acc = tf.to_float(tf.equal(prediction, labels))\n",
    "acc = tf.reduce_mean(acc)\n",
    "\n",
    "# define optimizer\n",
    "trainer = tf.train.AdamOptimizer()\n",
    "gradients = trainer.compute_gradients(loss)\n",
    "gradients_clipped = [(tf.clip_by_value(t[0],-1,1),t[1]) for t in gradients]\n",
    "optimizer = trainer.apply_gradients(gradients_clipped)"
   ]
  },
  {
   "cell_type": "code",
   "execution_count": 111,
   "metadata": {
    "scrolled": false
   },
   "outputs": [
    {
     "name": "stdout",
     "output_type": "stream",
     "text": [
      "Training step: 0\tTest Loss = 0.6919908486306667\tTest Accuracy = 0.5380859375\n",
      "Training step: 50\tTest Loss = 0.6777697429060936\tTest Accuracy = 0.5673828125\n",
      "Training step: 100\tTest Loss = 0.6033436842262745\tTest Accuracy = 0.666015625\n",
      "Training step: 150\tTest Loss = 0.5785716474056244\tTest Accuracy = 0.69140625\n",
      "Training step: 200\tTest Loss = 0.551995737478137\tTest Accuracy = 0.73046875\n",
      "Training step: 250\tTest Loss = 0.545532738789916\tTest Accuracy = 0.732421875\n",
      "Training step: 300\tTest Loss = 0.548671206459403\tTest Accuracy = 0.7333984375\n",
      "Training step: 350\tTest Loss = 0.5558816511183977\tTest Accuracy = 0.712890625\n",
      "Training step: 400\tTest Loss = 0.5441414806991816\tTest Accuracy = 0.7333984375\n",
      "Training step: 450\tTest Loss = 0.5322381630539894\tTest Accuracy = 0.7294921875\n",
      "Training step: 500\tTest Loss = 0.5249098166823387\tTest Accuracy = 0.7431640625\n",
      "Training step: 550\tTest Loss = 0.5242468249052763\tTest Accuracy = 0.7431640625\n",
      "Training step: 600\tTest Loss = 0.523760087788105\tTest Accuracy = 0.7431640625\n",
      "Training step: 650\tTest Loss = 0.5310218501836061\tTest Accuracy = 0.75390625\n",
      "Training step: 700\tTest Loss = 0.5092698913067579\tTest Accuracy = 0.7548828125\n",
      "Training step: 750\tTest Loss = 0.5232898816466331\tTest Accuracy = 0.7451171875\n",
      "Training step: 800\tTest Loss = 0.5215780697762966\tTest Accuracy = 0.7421875\n",
      "Training step: 850\tTest Loss = 0.5189148262143135\tTest Accuracy = 0.748046875\n",
      "Training step: 900\tTest Loss = 0.5164288971573114\tTest Accuracy = 0.751953125\n",
      "Training step: 950\tTest Loss = 0.5101564526557922\tTest Accuracy = 0.7490234375\n",
      "Training step: 999\tTest Loss = 0.517800634726882\tTest Accuracy = 0.75390625\n"
     ]
    }
   ],
   "source": [
    "# Training function\n",
    "import random\n",
    "num_steps = 1000\n",
    "total_train_samples = train_tweets.shape[0]\n",
    "batch_count = 0\n",
    "with tf.Session() as sess:\n",
    "    sess.run(tf.global_variables_initializer())\n",
    "    for step in range(num_steps):\n",
    "        # TODO: get data for a batch\n",
    "        if (batch_count+1)*batch_size > total_train_samples:\n",
    "            batch_tweets = train_tweets[batch_count*batch_size:60000]\n",
    "            batch_labels = train_labels[batch_count*batch_size:60000]\n",
    "            append_size = batch_size - batch_tweets.shape[0]\n",
    "            batch_tweets = np.concatenate((batch_tweets, np.array(random.sample(list(train_tweets), append_size))))\n",
    "            batch_labels = np.concatenate((batch_labels, np.array(random.sample(list(train_labels), append_size))))\n",
    "            batch_count = 0\n",
    "        else:\n",
    "            batch_tweets = train_tweets[batch_count*batch_size:(batch_count+1)*batch_size]\n",
    "            batch_labels = train_labels[batch_count*batch_size:(batch_count+1)*batch_size]\n",
    "            batch_count += 1\n",
    "\n",
    "        # TODO: run the 'optimizer', 'loss', and 'acc' operations in the graph using the batch data\n",
    "        _, train_loss, train_acc = sess.run([optimizer, loss, acc], feed_dict={tweets:batch_tweets, labels:batch_labels})\n",
    "        if (step % 50 == 0 or step == 999):\n",
    "            # TODO: get test accuracy and loss, and print them out.\n",
    "            tbc = 0\n",
    "            total_loss = 0\n",
    "            total_acc = 0\n",
    "            for i in range(1000//batch_size+1):\n",
    "                if (tbc+1)*batch_size <= 1000:\n",
    "                    batch_test_tweets = test_tweets[tbc*batch_size:(tbc+1)*batch_size]\n",
    "                    batch_test_labels = test_labels[tbc*batch_size:(tbc+1)*batch_size]\n",
    "                    tbc += 1\n",
    "                else:\n",
    "                    batch_test_tweets = test_tweets[tbc*batch_size:1000]\n",
    "                    batch_test_labels = test_labels[tbc*batch_size:1000]\n",
    "                    append_size = batch_size - batch_test_tweets.shape[0]\n",
    "                    batch_test_tweets = np.concatenate((batch_test_tweets, np.array(random.sample(list(test_tweets), append_size))))\n",
    "                    batch_test_labels = np.concatenate((batch_test_labels, np.array(random.sample(list(test_labels), append_size))))\n",
    "                    tbc = 0\n",
    "                batch_loss, batch_acc = sess.run([loss, acc], feed_dict={tweets:batch_test_tweets, labels:batch_test_labels})\n",
    "                total_loss += batch_loss\n",
    "                total_acc += batch_acc\n",
    "            total_loss = total_loss/(1000//batch_size+1)\n",
    "            total_acc = total_acc/(1000//batch_size+1)\n",
    "#             print(\"Training step: {0}\\tTest Loss = {1}\\tTest Accuracy = {2}\".format(step, batch_loss, batch_acc))\n",
    "            print(\"Training step: {0}\\tTest Loss = {1}\\tTest Accuracy = {2}\".format(step, total_loss, total_acc))\n",
    "            "
   ]
  },
  {
   "cell_type": "markdown",
   "metadata": {},
   "source": [
    "### train a two-layer lstm network\n",
    "\n",
    "Next, we look at a slightly more difficult network structure: a double-layer LSTM. The output of the first LSTM cell is propagated to the second LSTM cell. We only need to make small modifications to the previous network to construct this one.\n",
    "\n",
    "![](./img/doubleLSTM.png)\n",
    "\n",
    "<span style=\"color:red\">__TODO:__</span> Define this double-layer LSTM in the below notebook cell. You can copy the single-layer network code and make changes to it. After that, train the network using the function you just wrote.\n",
    "\n",
    "Hint: Use **tf.contrib.rnn.MultiRNNCell**. You'll find there are only 2-3 lines of code that need to be changed."
   ]
  },
  {
   "cell_type": "code",
   "execution_count": 15,
   "metadata": {
    "collapsed": true
   },
   "outputs": [],
   "source": [
    "# define a linear layer, y = x*w + b\n",
    "def linear_multi(input_, output_size, name, init_bias=0.0):\n",
    "    shape = input_.get_shape().as_list()\n",
    "    with tf.variable_scope(name):\n",
    "        init = tf.truncated_normal([shape[-1], output_size], mean=0.0, stddev=1.0 / shape[-1]**0.5)\n",
    "        W = tf.get_variable(\"weight\", initializer=init)\n",
    "    if init_bias is None:\n",
    "        return tf.matmul(input_, W)\n",
    "    with tf.variable_scope(name):\n",
    "        b = tf.get_variable(\"bias\", [output_size], initializer=tf.constant_initializer(init_bias))\n",
    "    return tf.matmul(input_, W) + b"
   ]
  },
  {
   "cell_type": "code",
   "execution_count": 112,
   "metadata": {},
   "outputs": [],
   "source": [
    "# YOUR DOUBLE-LAYER LSTM Here\n",
    "# set variables\n",
    "tweet_size = 20\n",
    "hidden_size = 100\n",
    "vocab_size = 7597\n",
    "batch_size = 64\n",
    "num_layers = 2\n",
    "\n",
    "# this just makes sure that all our following operations will be placed in the right graph.\n",
    "tf.reset_default_graph()\n",
    "\n",
    "# make placeholders for data we'll feed in\n",
    "tweets = tf.placeholder(tf.int32, [None, tweet_size])\n",
    "labels = tf.placeholder(tf.float32, [None])\n",
    "\n",
    "tweets_onehot = tf.one_hot(tweets, depth=vocab_size, axis=-1)\n",
    "\n",
    "# define the lstm cell\n",
    "lstm_cell = tf.contrib.rnn.LSTMCell(hidden_size)\n",
    "stacked_rnn = []\n",
    "for iiLyr in range(2):\n",
    "    stacked_rnn.append(tf.contrib.rnn.LSTMCell(hidden_size))\n",
    "# lstm_cell = tf.contrib.rnn.MultiRNNCell([lstm_cell] * num_layers, state_is_tuple=True)\n",
    "lstm_cell = tf.contrib.rnn.MultiRNNCell(cells=stacked_rnn, state_is_tuple=True)\n",
    "\n",
    "# define the op that runs the LSTM, across time, on the data\n",
    "init_state = lstm_cell.zero_state(batch_size, tf.float32)\n",
    "outputs, final_state = tf.nn.dynamic_rnn(lstm_cell, tweets_onehot, initial_state=init_state, dtype=tf.float32)\n",
    "\n",
    "# define that our final sentiment logit is a linear function of the final state of the LSTM\n",
    "sentiment = linear(final_state[-1].c, 1, name=\"output\")\n",
    "\n",
    "# define cross entropy/sigmoid loss function\n",
    "sentiment = tf.squeeze(sentiment, [1])\n",
    "loss = tf.nn.sigmoid_cross_entropy_with_logits(logits=sentiment, labels=labels)\n",
    "loss = tf.reduce_mean(loss)\n",
    "\n",
    "# compute accuracy\n",
    "prob = tf.nn.sigmoid(sentiment)\n",
    "prediction = tf.to_float(tf.greater_equal(prob, 0.5))\n",
    "acc = tf.to_float(tf.equal(prediction, labels))\n",
    "acc = tf.reduce_mean(acc)\n",
    "\n",
    "# define optimizer\n",
    "trainer = tf.train.AdamOptimizer()\n",
    "gradients = trainer.compute_gradients(loss)\n",
    "gradients_clipped = [(tf.clip_by_value(t[0],-1,1),t[1]) for t in gradients]\n",
    "optimizer = trainer.apply_gradients(gradients_clipped)"
   ]
  },
  {
   "cell_type": "code",
   "execution_count": 113,
   "metadata": {},
   "outputs": [
    {
     "name": "stdout",
     "output_type": "stream",
     "text": [
      "Training step: 0\tTest Loss = 0.6916129216551781\tTest Accuracy = 0.5537109375\n",
      "Training step: 50\tTest Loss = 0.6315515786409378\tTest Accuracy = 0.6513671875\n",
      "Training step: 100\tTest Loss = 0.5869773030281067\tTest Accuracy = 0.6806640625\n",
      "Training step: 150\tTest Loss = 0.5843572057783604\tTest Accuracy = 0.705078125\n",
      "Training step: 200\tTest Loss = 0.5584374777972698\tTest Accuracy = 0.732421875\n",
      "Training step: 250\tTest Loss = 0.5471960697323084\tTest Accuracy = 0.7294921875\n",
      "Training step: 300\tTest Loss = 0.536975335329771\tTest Accuracy = 0.73828125\n",
      "Training step: 350\tTest Loss = 0.5487573109567165\tTest Accuracy = 0.732421875\n",
      "Training step: 400\tTest Loss = 0.5291043929755688\tTest Accuracy = 0.7529296875\n",
      "Training step: 450\tTest Loss = 0.5473901927471161\tTest Accuracy = 0.7421875\n",
      "Training step: 500\tTest Loss = 0.5235076807439327\tTest Accuracy = 0.751953125\n",
      "Training step: 550\tTest Loss = 0.5301526021212339\tTest Accuracy = 0.73828125\n",
      "Training step: 600\tTest Loss = 0.5308112520724535\tTest Accuracy = 0.73046875\n",
      "Training step: 650\tTest Loss = 0.5236572045832872\tTest Accuracy = 0.75390625\n",
      "Training step: 700\tTest Loss = 0.5163258146494627\tTest Accuracy = 0.7607421875\n",
      "Training step: 750\tTest Loss = 0.5238684136420488\tTest Accuracy = 0.7431640625\n",
      "Training step: 800\tTest Loss = 0.5250025745481253\tTest Accuracy = 0.7421875\n",
      "Training step: 850\tTest Loss = 0.5161498114466667\tTest Accuracy = 0.748046875\n",
      "Training step: 900\tTest Loss = 0.5228112302720547\tTest Accuracy = 0.740234375\n",
      "Training step: 950\tTest Loss = 0.524759067222476\tTest Accuracy = 0.7470703125\n",
      "Training step: 999\tTest Loss = 0.5339472144842148\tTest Accuracy = 0.7451171875\n"
     ]
    }
   ],
   "source": [
    "# Training function\n",
    "num_steps = 1000\n",
    "total_train_samples = train_tweets.shape[0]\n",
    "batch_count = 0\n",
    "with tf.Session() as sess:\n",
    "    sess.run(tf.global_variables_initializer())\n",
    "    for step in range(num_steps):\n",
    "        # TODO: get data for a batch\n",
    "        if (batch_count+1)*batch_size > total_train_samples:\n",
    "            batch_tweets = train_tweets[batch_count*batch_size:60000]\n",
    "            batch_labels = train_labels[batch_count*batch_size:60000]\n",
    "            append_size = batch_size - batch_tweets.shape[0]\n",
    "            batch_tweets = np.concatenate((batch_tweets, np.array(random.sample(list(train_tweets), append_size))))\n",
    "            batch_labels = np.concatenate((batch_labels, np.array(random.sample(list(train_labels), append_size))))\n",
    "            batch_count = 0\n",
    "        else:\n",
    "            batch_tweets = train_tweets[batch_count*batch_size:(batch_count+1)*batch_size]\n",
    "            batch_labels = train_labels[batch_count*batch_size:(batch_count+1)*batch_size]\n",
    "            batch_count += 1\n",
    "\n",
    "        # TODO: run the 'optimizer', 'loss', and 'acc' operations in the graph using the batch data\n",
    "        _, train_loss, train_acc = sess.run([optimizer, loss, acc], feed_dict={tweets:batch_tweets, labels:batch_labels})\n",
    "        if (step % 50 == 0 or step == 999):\n",
    "            # TODO: get test accuracy and loss, and print them out.\n",
    "            tbc = 0\n",
    "            total_loss = 0\n",
    "            total_acc = 0\n",
    "            for i in range(1000//batch_size+1):\n",
    "                if (tbc+1)*batch_size <= 1000:\n",
    "                    batch_test_tweets = test_tweets[tbc*batch_size:(tbc+1)*batch_size]\n",
    "                    batch_test_labels = test_labels[tbc*batch_size:(tbc+1)*batch_size]\n",
    "                    tbc += 1\n",
    "                else:\n",
    "                    batch_test_tweets = test_tweets[tbc*batch_size:1000]\n",
    "                    batch_test_labels = test_labels[tbc*batch_size:1000]\n",
    "                    append_size = batch_size - batch_test_tweets.shape[0]\n",
    "                    batch_test_tweets = np.concatenate((batch_test_tweets, np.array(random.sample(list(test_tweets), append_size))))\n",
    "                    batch_test_labels = np.concatenate((batch_test_labels, np.array(random.sample(list(test_labels), append_size))))\n",
    "                    tbc = 0\n",
    "                batch_loss, batch_acc = sess.run([loss, acc], feed_dict={tweets:batch_test_tweets, labels:batch_test_labels})\n",
    "                total_loss += batch_loss\n",
    "                total_acc += batch_acc\n",
    "            total_loss = total_loss/(1000//batch_size+1)\n",
    "            total_acc = total_acc/(1000//batch_size+1)\n",
    "#             print(\"Training step: {0}\\tTest Loss = {1}\\tTest Accuracy = {2}\".format(step, batch_loss, batch_acc))\n",
    "            print(\"Training step: {0}\\tTest Loss = {1}\\tTest Accuracy = {2}\".format(step, total_loss, total_acc))\n",
    "            "
   ]
  },
  {
   "cell_type": "markdown",
   "metadata": {},
   "source": [
    "## Part 2: Embedding Lookup layer\n",
    "\n",
    "![](./img/embedding.png)"
   ]
  },
  {
   "cell_type": "markdown",
   "metadata": {},
   "source": [
    "###  Define an embedding layer\n",
    "\n",
    "It's not hard to imagine in the previous practices, the input we fed in are very sparse because each word was represented as a one-hot vector. This makes it difficult for the network to understand what story the input data is telling. \n",
    "\n",
    "Word embedding: instead of using a one-hot vector to represent each word, we can add an word embedding matrix in which each word is represented as a low-dimensional vector. Note that this representation is not sparse any more, because we're working in a continuous vector space now. Words that share similar/related semantic meaning should be 'close to each other' in this vector space (we could define a distance measure to estimate the closeness). \n",
    "\n",
    "[https://www.tensorflow.org/tutorials/word2vec](https://www.tensorflow.org/tutorials/word2vec)\n",
    "\n",
    "<span style=\"color:red\">__TODO:__</span> Take a look at the website above, and write a function to do the embedding. The website itself is a very good tutorial.\n",
    "\n",
    "Hint: Use **tf.nn.embedding_lookup**"
   ]
  },
  {
   "cell_type": "code",
   "execution_count": 205,
   "metadata": {
    "collapsed": true
   },
   "outputs": [],
   "source": [
    "import math\n",
    "def embedding(input_, vocab_size, output_size, name):\n",
    "    \"\"\"\n",
    "    1. Define an embedding matrix\n",
    "    2. return both the lookup results and the embedding matrix.\n",
    "    \"\"\"\n",
    "    with tf.variable_scope(name):\n",
    "        embedding = tf.get_variable(\"embedding\", [vocab_size, output_size], tf.float32, tf.random_normal_initializer(stddev=1.0 / math.sqrt(output_size)))\n",
    "    return [tf.nn.embedding_lookup(embedding, input_),embedding]"
   ]
  },
  {
   "cell_type": "markdown",
   "metadata": {},
   "source": [
    "### Train a single lstm network with embedding layer\n",
    "\n",
    "<span style=\"color:red\">__TODO:__</span> Build a single-layer LSTM network according to the network structure. Then, train the network with the training function you wrote."
   ]
  },
  {
   "cell_type": "code",
   "execution_count": 206,
   "metadata": {},
   "outputs": [],
   "source": [
    "# YOUR EMBEDDING SINGLE-LAYER LSTM HERE\n",
    "# set variables\n",
    "tweet_size = 20\n",
    "hidden_size = 100\n",
    "vocab_size = 7597\n",
    "batch_size = 64\n",
    "\n",
    "# this just makes sure that all our following operations will be placed in the right graph.\n",
    "tf.reset_default_graph()\n",
    "\n",
    "# make placeholders for data we'll feed in\n",
    "tweets = tf.placeholder(tf.int32, [None, tweet_size])\n",
    "labels = tf.placeholder(tf.float32, [None])\n",
    "\n",
    "[embedding, matrix] = embedding(tweets, vocab_size, hidden_size, name=\"word_embedding\")\n",
    "\n",
    "# define the lstm cell\n",
    "lstm_cell = tf.contrib.rnn.LSTMCell(hidden_size)\n",
    "\n",
    "# define the op that runs the LSTM, across time, on the data\n",
    "init_state = lstm_cell.zero_state(batch_size, tf.float32)\n",
    "outputs, final_state = tf.nn.dynamic_rnn(lstm_cell, embedding, initial_state=init_state, dtype=tf.float32)\n",
    "\n",
    "# define that our final sentiment logit is a linear function of the final state of the LSTM\n",
    "sentiment = linear(final_state[-1], 1, name=\"output\")\n",
    "\n",
    "# define cross entropy/sigmoid loss function\n",
    "sentiment = tf.squeeze(sentiment, [1])\n",
    "loss = tf.nn.sigmoid_cross_entropy_with_logits(logits=sentiment, labels=labels)\n",
    "loss = tf.reduce_mean(loss)\n",
    "\n",
    "# compute accuracy\n",
    "prob = tf.nn.sigmoid(sentiment)\n",
    "prediction = tf.to_float(tf.greater_equal(prob, 0.5))\n",
    "acc = tf.to_float(tf.equal(prediction, labels))\n",
    "acc = tf.reduce_mean(acc)\n",
    "\n",
    "# define optimizer\n",
    "trainer = tf.train.AdamOptimizer()\n",
    "gradients = trainer.compute_gradients(loss)\n",
    "gradients_clipped = [(tf.clip_by_value(t[0],-1,1),t[1]) for t in gradients]\n",
    "optimizer = trainer.apply_gradients(gradients_clipped)"
   ]
  },
  {
   "cell_type": "code",
   "execution_count": 145,
   "metadata": {},
   "outputs": [
    {
     "name": "stdout",
     "output_type": "stream",
     "text": [
      "Training step: 0\tTest Loss = 0.692418772727251\tTest Accuracy = 0.5625\n",
      "Training step: 50\tTest Loss = 0.6726235039532185\tTest Accuracy = 0.5654296875\n",
      "Training step: 100\tTest Loss = 0.6059901677072048\tTest Accuracy = 0.6748046875\n",
      "Training step: 150\tTest Loss = 0.5706573445349932\tTest Accuracy = 0.7021484375\n",
      "Training step: 200\tTest Loss = 0.5588216260075569\tTest Accuracy = 0.7109375\n",
      "Training step: 250\tTest Loss = 0.5511057879775763\tTest Accuracy = 0.7255859375\n",
      "Training step: 300\tTest Loss = 0.5452409125864506\tTest Accuracy = 0.7431640625\n",
      "Training step: 350\tTest Loss = 0.5502950884401798\tTest Accuracy = 0.7255859375\n",
      "Training step: 400\tTest Loss = 0.5385589972138405\tTest Accuracy = 0.748046875\n",
      "Training step: 450\tTest Loss = 0.5290400646626949\tTest Accuracy = 0.73828125\n",
      "Training step: 500\tTest Loss = 0.5183979161083698\tTest Accuracy = 0.74609375\n",
      "Training step: 550\tTest Loss = 0.524322560057044\tTest Accuracy = 0.7431640625\n",
      "Training step: 600\tTest Loss = 0.5340418852865696\tTest Accuracy = 0.728515625\n",
      "Training step: 650\tTest Loss = 0.5309581477195024\tTest Accuracy = 0.7412109375\n",
      "Training step: 700\tTest Loss = 0.5114558190107346\tTest Accuracy = 0.748046875\n",
      "Training step: 750\tTest Loss = 0.515184199437499\tTest Accuracy = 0.7578125\n",
      "Training step: 800\tTest Loss = 0.5273564476519823\tTest Accuracy = 0.73828125\n",
      "Training step: 850\tTest Loss = 0.515166625380516\tTest Accuracy = 0.7470703125\n",
      "Training step: 900\tTest Loss = 0.5120321121066809\tTest Accuracy = 0.740234375\n",
      "Training step: 950\tTest Loss = 0.513646112754941\tTest Accuracy = 0.7509765625\n",
      "Training step: 999\tTest Loss = 0.5121987722814083\tTest Accuracy = 0.7548828125\n"
     ]
    }
   ],
   "source": [
    "# Training function\n",
    "num_steps = 1000\n",
    "total_train_samples = train_tweets.shape[0]\n",
    "batch_count = 0\n",
    "with tf.Session() as sess:\n",
    "    sess.run(tf.global_variables_initializer())\n",
    "    for step in range(num_steps):\n",
    "        # TODO: get data for a batch\n",
    "        if (batch_count+1)*batch_size > total_train_samples:\n",
    "            batch_tweets = train_tweets[batch_count*batch_size:60000]\n",
    "            batch_labels = train_labels[batch_count*batch_size:60000]\n",
    "            append_size = batch_size - batch_tweets.shape[0]\n",
    "            batch_tweets = np.concatenate((batch_tweets, np.array(random.sample(list(train_tweets), append_size))))\n",
    "            batch_labels = np.concatenate((batch_labels, np.array(random.sample(list(train_labels), append_size))))\n",
    "            batch_count = 0\n",
    "        else:\n",
    "            batch_tweets = train_tweets[batch_count*batch_size:(batch_count+1)*batch_size]\n",
    "            batch_labels = train_labels[batch_count*batch_size:(batch_count+1)*batch_size]\n",
    "            batch_count += 1\n",
    "\n",
    "        # TODO: run the 'optimizer', 'loss', and 'acc' operations in the graph using the batch data\n",
    "        _, train_loss, train_acc = sess.run([optimizer, loss, acc], feed_dict={tweets:batch_tweets, labels:batch_labels})\n",
    "        if (step % 50 == 0 or step == 999):\n",
    "            # TODO: get test accuracy and loss, and print them out.\n",
    "            tbc = 0\n",
    "            total_loss = 0\n",
    "            total_acc = 0\n",
    "            for i in range(1000//batch_size+1):\n",
    "                if (tbc+1)*batch_size <= 1000:\n",
    "                    batch_test_tweets = test_tweets[tbc*batch_size:(tbc+1)*batch_size]\n",
    "                    batch_test_labels = test_labels[tbc*batch_size:(tbc+1)*batch_size]\n",
    "                    tbc += 1\n",
    "                else:\n",
    "                    batch_test_tweets = test_tweets[tbc*batch_size:1000]\n",
    "                    batch_test_labels = test_labels[tbc*batch_size:1000]\n",
    "                    append_size = batch_size - batch_test_tweets.shape[0]\n",
    "                    batch_test_tweets = np.concatenate((batch_test_tweets, np.array(random.sample(list(test_tweets), append_size))))\n",
    "                    batch_test_labels = np.concatenate((batch_test_labels, np.array(random.sample(list(test_labels), append_size))))\n",
    "                    tbc = 0\n",
    "                batch_loss, batch_acc = sess.run([loss, acc], feed_dict={tweets:batch_test_tweets, labels:batch_test_labels})\n",
    "                total_loss += batch_loss\n",
    "                total_acc += batch_acc\n",
    "            total_loss = total_loss/(1000//batch_size+1)\n",
    "            total_acc = total_acc/(1000//batch_size+1)\n",
    "#             print(\"Training step: {0}\\tTest Loss = {1}\\tTest Accuracy = {2}\".format(step, batch_loss, batch_acc))\n",
    "            print(\"Training step: {0}\\tTest Loss = {1}\\tTest Accuracy = {2}\".format(step, total_loss, total_acc))\n",
    "    embedding_matrix = sess.run(matrix)\n",
    "            "
   ]
  },
  {
   "cell_type": "markdown",
   "metadata": {},
   "source": [
    "### Visualize word vectors via tSNE\n",
    "\n",
    "<span style=\"color:red\">__TODO:__</span>\n",
    "\n",
    "First, you need to retrieve **embedding matrix** from the network. Then use tSNE to reduce each low-dimensional word vector into a 2D vector. \n",
    "\n",
    "And then, you should visualize some interesting word pairs in 2D panel. You may find **scatter** function in **matplotlib.pyplot** useful.\n",
    "\n",
    "\n",
    "Hint: You can use **TSNE** tool provided in **scikit-learn**. And if you encounter dead kernel problem caused by \"Intel MKL FATAL ERROR: Cannot load libmkl_avx.so or libmkl_def.so\", please reinstall scikit-learn without MKL, ie., **conda install nomkl numpy scipy scikit-learn numexpr**. \n",
    "\n",
    "Here we provide some word pairs for you, like female-male or country-capital. And you can observe that these word-pair will look parallel with each other in a 2D tSNE panel. And you can find some other words and explore their relationship.\n",
    "\n",
    "The result for female-male pairs should look like, and you will observe that king-men and queen-women are parallel to each other in a 2D panel.\n",
    "\n",
    "\n",
    "![](./img/tsne_female_male.png)"
   ]
  },
  {
   "cell_type": "code",
   "execution_count": 37,
   "metadata": {
    "collapsed": true
   },
   "outputs": [],
   "source": [
    "female_male = [\"men\", \"women\", \"king\", \"queen\"]\n",
    "country_capital = [\"spain\", \"madrid\", \"italy\", \"rome\", \"japan\", \"tokyo\"]\n",
    "# you can try some other words"
   ]
  },
  {
   "cell_type": "code",
   "execution_count": 201,
   "metadata": {},
   "outputs": [
    {
     "name": "stdout",
     "output_type": "stream",
     "text": [
      "[[ 0.0240817   0.05222159 -0.16442859 ...,  0.13582884 -0.02433185\n",
      "   0.08239289]\n",
      " [-0.10070354 -0.18201712 -0.02155879 ...,  0.00475563 -0.03716514\n",
      "  -0.0293594 ]\n",
      " [-0.05452937 -0.25616896  0.00990555 ..., -0.02859567  0.15534376\n",
      "   0.11747152]\n",
      " ..., \n",
      " [ 0.04177171  0.14334226 -0.11787194 ...,  0.11438694  0.09130663\n",
      "   0.06288854]\n",
      " [ 0.11741514  0.04650451  0.02019694 ..., -0.13576078  0.0216529\n",
      "  -0.13819733]\n",
      " [ 0.02748527  0.01781574  0.07417218 ..., -0.04820335  0.04390398\n",
      "   0.02232707]]\n",
      "(7597, 100)\n"
     ]
    }
   ],
   "source": [
    "print(embedding_matrix)\n",
    "print(embedding_matrix.shape)"
   ]
  },
  {
   "cell_type": "code",
   "execution_count": 147,
   "metadata": {},
   "outputs": [],
   "source": [
    "from sklearn.manifold import TSNE\n",
    "from matplotlib.pyplot import scatter\n",
    "tsne = TSNE(n_components=2, init='pca', random_state=0)\n",
    "X_tsne = tsne.fit_transform(embedding_matrix)\n"
   ]
  },
  {
   "cell_type": "code",
   "execution_count": 200,
   "metadata": {},
   "outputs": [
    {
     "data": {
      "image/png": "[encoded data removed]",
      "text/plain": [
       "<matplotlib.figure.Figure at 0x111f49908>"
      ]
     },
     "metadata": {},
     "output_type": "display_data"
    }
   ],
   "source": [
    "xlist = []\n",
    "ylist = []\n",
    "for words in female_male:\n",
    "    [x, y] = X_tsne[vocabulary.tolist().index(words)]\n",
    "    xlist.append(x)\n",
    "    ylist.append(y)\n",
    "fig, ax = plt.subplots()\n",
    "ax.scatter(xlist, ylist)\n",
    "\n",
    "for i, txt in enumerate(female_male):\n",
    "    ax.annotate(txt, (xlist[i],ylist[i]))"
   ]
  },
  {
   "cell_type": "code",
   "execution_count": 203,
   "metadata": {},
   "outputs": [
    {
     "data": {
      "image/png": "[encoded data removed]",
      "text/plain": [
       "<matplotlib.figure.Figure at 0x129a8f860>"
      ]
     },
     "metadata": {},
     "output_type": "display_data"
    }
   ],
   "source": [
    "xlist2 = []\n",
    "ylist2 = []\n",
    "for words in country_capital:\n",
    "    [x, y] = X_tsne[vocabulary.tolist().index(words)]\n",
    "    xlist2.append(x)\n",
    "    ylist2.append(y)\n",
    "fig, ax = plt.subplots()\n",
    "ax.scatter(xlist2, ylist2)\n",
    "\n",
    "for i, txt in enumerate(country_capital):\n",
    "    ax.annotate(txt, (xlist2[i],ylist2[i]))"
   ]
  },
  {
   "cell_type": "markdown",
   "metadata": {},
   "source": [
    "#### <span style=\"color:red\">TODO: </span> describe your observation of these word vectors\n",
    "\n",
    "Answer: Similar words will be close to each others. And we can observe that the men-king pair is parallel to the women-queen pair, japan-tokyo is parallel to italy-rome and spain-madrid pairs."
   ]
  }
 ],
 "metadata": {
  "kernelspec": {
   "display_name": "Python 3",
   "language": "python",
   "name": "python3"
  },
  "language_info": {
   "codemirror_mode": {
    "name": "ipython",
    "version": 3
   },
   "file_extension": ".py",
   "mimetype": "text/x-python",
   "name": "python",
   "nbconvert_exporter": "python",
   "pygments_lexer": "ipython3",
   "version": "3.6.1"
  }
 },
 "nbformat": 4,
 "nbformat_minor": 2
}
